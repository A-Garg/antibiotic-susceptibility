{
 "cells": [
  {
   "cell_type": "code",
   "execution_count": 1,
   "id": "280f3706-327b-426e-9f27-630f4c9db02c",
   "metadata": {},
   "outputs": [],
   "source": [
    "##################################\n",
    "#                                #\n",
    "# modelling.ipynb                #\n",
    "# Created 2022-06-12             #\n",
    "# Akhil Garg, akhil@akhilgarg.ca #\n",
    "#                                #\n",
    "##################################\n",
    "\n",
    "import pandas as pd"
   ]
  },
  {
   "cell_type": "code",
   "execution_count": 2,
   "id": "97d62382-3bc1-414d-ab46-01d79ac04ef4",
   "metadata": {},
   "outputs": [],
   "source": [
    "data = pd.read_excel('AMR_imputation_5.xlsx')"
   ]
  },
  {
   "cell_type": "code",
   "execution_count": 3,
   "id": "f7d3dc4f-d9a7-4e12-a364-f0ef7a801b1b",
   "metadata": {},
   "outputs": [
    {
     "data": {
      "text/plain": [
       "2008       2\n",
       "2011       1\n",
       "2012       1\n",
       "2013       5\n",
       "2014       2\n",
       "2015      17\n",
       "2016     160\n",
       "2017    1169\n",
       "2018    1126\n",
       "2019    1166\n",
       "2020    1058\n",
       "2021    1064\n",
       "Name: YearOfAdmission, dtype: int64"
      ]
     },
     "execution_count": 3,
     "metadata": {},
     "output_type": "execute_result"
    }
   ],
   "source": [
    "# Data available per year\n",
    "data['YearOfAdmission'].value_counts().sort_index()"
   ]
  },
  {
   "cell_type": "code",
   "execution_count": 23,
   "id": "3f611236-58cd-4a49-94d3-ddd45992babf",
   "metadata": {},
   "outputs": [
    {
     "name": "stdout",
     "output_type": "stream",
     "text": [
      "------------Missing Data-------------\n",
      "Total isolates 2016-2018: 2455\n",
      "Total isolates      2019: 1166\n",
      "\n",
      "Numbers missing\n",
      "\n",
      "Cefazolin      2016-2018:  37 (1.51%)\n",
      "                    2019:  13 (1.11%)\n",
      "Ceftriaxone    2016-2018:  11 (0.45%)\n",
      "                    2019:  91 (7.80%)\n",
      "Ceftazidime    2016-2018:  21 (0.86%)\n",
      "                    2019:  94 (8.06%)\n",
      "Piptaz         2016-2018:  29 (1.18%)\n",
      "                    2019: 101 (8.66%)\n",
      "Meropenem      2016-2018:  14 (0.57%)\n",
      "                    2019:   2 (0.17%)\n",
      "Ciprofloxacin  2016-2018:  32 (1.30%)\n",
      "                    2019:  27 (2.32%)\n",
      "Gentamicin     2016-2018:  16 (0.65%)\n",
      "                    2019:   6 (0.51%)\n",
      "TMPSMX         2016-2018:  15 (0.61%)\n",
      "                    2019:   6 (0.51%)\n"
     ]
    }
   ],
   "source": [
    "# Amount of data missing, separated by antibiotic class, and also separated by year (2016-2018 and 2019)\n",
    "\n",
    "print(\"------------Missing Data-------------\")\n",
    "\n",
    "antibiotic_list = ['Cefazolin','Ceftriaxone','Ceftazidime','Piptaz','Meropenem',\n",
    "                   'Ciprofloxacin','Gentamicin','TMPSMX']\n",
    "missing_list = pd.DataFrame()\n",
    "\n",
    "# Counting the total number of values\n",
    "total_2016_2018 = data[(data['YearOfAdmission']<=2018) & (data['YearOfAdmission']>=2016)].shape[0]\n",
    "total_2019      = data[(data['YearOfAdmission']==2019)].shape[0]\n",
    "\n",
    "print('Total isolates 2016-2018: {}'.format(total_2016_2018))\n",
    "print('Total isolates      2019: {}'.format(total_2019))\n",
    "print()\n",
    "print('Numbers missing')\n",
    "print()\n",
    "\n",
    "# Counting the number of \"no_data\" for each antibiotic\n",
    "for antibiotic in antibiotic_list:\n",
    "    missing_2016_2018 = (data[(data['{}_FINAL_imp'.format(antibiotic)]=='no_data') &\n",
    "                        (data['YearOfAdmission' ]<=2018) &\n",
    "                        (data['YearOfAdmission' ]>=2016)])\n",
    "    missing_2019 = data[(data['{}_FINAL_imp'.format(antibiotic)]=='no_data') &\n",
    "                        (data['YearOfAdmission']==2019)]\n",
    "    \n",
    "    print(\"{:14} 2016-2018: {:3} ({:.2%})\".format(antibiotic,\n",
    "                                            missing_2016_2018.shape[0],\n",
    "                                            missing_2016_2018.shape[0]/total_2016_2018))\n",
    "\n",
    "    print(\"{:19} 2019: {:3} ({:.2%})\".format('',missing_2019.shape[0],\n",
    "                                       missing_2019.shape[0]/total_2019))\n",
    "    \n",
    "    missing_list = pd.concat((missing_list,missing_2016_2018),ignore_index=True)\n",
    "    missing_list = pd.concat((missing_list,missing_2019),ignore_index=True)\n",
    "\n",
    "missing_list = missing_list.drop_duplicates(subset='Episode')    \n",
    "missing_list.to_excel('missingness_tabulation.xlsx')"
   ]
  },
  {
   "cell_type": "code",
   "execution_count": null,
   "id": "0416f000-3bac-43c7-92b6-2d30d1943c00",
   "metadata": {},
   "outputs": [],
   "source": []
  }
 ],
 "metadata": {
  "kernelspec": {
   "display_name": "Python 3 (ipykernel)",
   "language": "python",
   "name": "python3"
  },
  "language_info": {
   "codemirror_mode": {
    "name": "ipython",
    "version": 3
   },
   "file_extension": ".py",
   "mimetype": "text/x-python",
   "name": "python",
   "nbconvert_exporter": "python",
   "pygments_lexer": "ipython3",
   "version": "3.10.5"
  }
 },
 "nbformat": 4,
 "nbformat_minor": 5
}
